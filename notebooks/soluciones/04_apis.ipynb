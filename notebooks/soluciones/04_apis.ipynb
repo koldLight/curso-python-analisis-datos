{
 "cells": [
  {
   "cell_type": "code",
   "execution_count": 35,
   "metadata": {},
   "outputs": [],
   "source": [
    "# Ponemos como ruta principal la carpeta padre de \"soluciones\"\n",
    "# para que las rutas relativas queden igual que en la carpeta de notebooks\n",
    "import paths\n",
    "\n",
    "# Otras dependencias\n",
    "import pandas as pd"
   ]
  },
  {
   "cell_type": "markdown",
   "metadata": {},
   "source": [
    "### Ejercicio\n",
    "\n",
    "Investiga en la documentación de la librería [requests](http://www.python-requests.org/en/latest/) cómo pasar parámetros en el query string. También consulta la documentación de la API [exchangeratesapi](https://exchangeratesapi.io/).\n",
    "\n",
    "Con esta información, extrae el valor actual de la conversión de la libra esterlina `GBP` al resto de monedas.\n",
    "\n",
    "*Nota*: hazlo sin poner manualmente el query string en la URL"
   ]
  },
  {
   "cell_type": "code",
   "execution_count": 36,
   "metadata": {},
   "outputs": [
    {
     "name": "stdout",
     "output_type": "stream",
     "text": [
      "https://api.exchangeratesapi.io/latest?base=GBP\n"
     ]
    },
    {
     "data": {
      "text/plain": [
       "'{\"rates\":{\"CAD\":1.7435269224,\"HKD\":10.5275349407,\"ISK\":173.6176847263,\"PHP\":65.2140987806,\"DKK\":8.2843142714,\"HUF\":402.7173005178,\"CZK\":29.2878222618,\"GBP\":1.0,\"RON\":5.4262486775,\"SEK\":11.2214488557,\"IDR\":19281.7640180411,\"INR\":99.8769419233,\"BRL\":7.0836906287,\"RUB\":100.8869090707,\"HRK\":8.4036973105,\"JPY\":140.7428030514,\"THB\":40.8586224177,\"CHF\":1.208419177,\"EUR\":1.1136477532,\"MYR\":5.5136700262,\"BGN\":2.1780722757,\"TRY\":10.2761846428,\"CNY\":8.8673088702,\"NOK\":11.7053288045,\"NZD\":1.9119104627,\"ZAR\":19.8509939306,\"USD\":1.3578707055,\"MXN\":27.1145386714,\"SGD\":1.8035525363,\"AUD\":1.7861796314,\"ILS\":4.3678378529,\"KRW\":1497.8228186425,\"PLN\":5.0138649145},\"base\":\"GBP\",\"date\":\"2020-12-24\"}'"
      ]
     },
     "execution_count": 36,
     "metadata": {},
     "output_type": "execute_result"
    }
   ],
   "source": [
    "import requests\n",
    "data = {'base': 'GBP'}\n",
    "r = requests.get('https://api.exchangeratesapi.io/latest', params=data)\n",
    "print(r.url)\n",
    "r.text"
   ]
  },
  {
   "cell_type": "markdown",
   "metadata": {},
   "source": [
    "### Ejercicio\n",
    "\n",
    "También sobre la API de `exchangeratesapi`, consulta el histórico disponible del valor entre dólares americanos y libras entre el 15 de agosto y 15 de septiembre de 2018"
   ]
  },
  {
   "cell_type": "code",
   "execution_count": 37,
   "metadata": {},
   "outputs": [
    {
     "name": "stdout",
     "output_type": "stream",
     "text": [
      "https://api.exchangeratesapi.io/history?start_at=2018-08-15&end_at=2018-09-15&symbols=USD%2CGBP\n"
     ]
    },
    {
     "data": {
      "text/plain": [
       "'{\"rates\":{\"2018-08-27\":{\"USD\":1.1633,\"GBP\":0.90365},\"2018-09-14\":{\"USD\":1.1689,\"GBP\":0.89228},\"2018-08-22\":{\"USD\":1.1616,\"GBP\":0.89928},\"2018-09-11\":{\"USD\":1.1574,\"GBP\":0.89068},\"2018-09-07\":{\"USD\":1.1615,\"GBP\":0.89275},\"2018-08-28\":{\"USD\":1.171,\"GBP\":0.9068},\"2018-08-17\":{\"USD\":1.1391,\"GBP\":0.89575},\"2018-08-30\":{\"USD\":1.1692,\"GBP\":0.89758},\"2018-08-20\":{\"USD\":1.142,\"GBP\":0.89478},\"2018-09-12\":{\"USD\":1.1585,\"GBP\":0.89028},\"2018-08-15\":{\"USD\":1.1321,\"GBP\":0.8913},\"2018-09-10\":{\"USD\":1.1571,\"GBP\":0.8934},\"2018-08-29\":{\"USD\":1.166,\"GBP\":0.905},\"2018-08-23\":{\"USD\":1.1579,\"GBP\":0.89878},\"2018-08-31\":{\"USD\":1.1651,\"GBP\":0.8974},\"2018-09-05\":{\"USD\":1.1582,\"GBP\":0.90328},\"2018-08-21\":{\"USD\":1.1502,\"GBP\":0.8974},\"2018-08-24\":{\"USD\":1.1588,\"GBP\":0.902},\"2018-09-03\":{\"USD\":1.1609,\"GBP\":0.90158},\"2018-09-06\":{\"USD\":1.1634,\"GBP\":0.89824},\"2018-08-16\":{\"USD\":1.137,\"GBP\":0.89498},\"2018-09-04\":{\"USD\":1.1562,\"GBP\":0.90058},\"2018-09-13\":{\"USD\":1.162,\"GBP\":0.89}},\"start_at\":\"2018-08-15\",\"base\":\"EUR\",\"end_at\":\"2018-09-15\"}'"
      ]
     },
     "execution_count": 37,
     "metadata": {},
     "output_type": "execute_result"
    }
   ],
   "source": [
    "data = {'start_at': '2018-08-15', 'end_at': '2018-09-15', 'symbols': 'USD,GBP'}\n",
    "r = requests.get('https://api.exchangeratesapi.io/history', params=data)\n",
    "print(r.url)\n",
    "r.text"
   ]
  },
  {
   "cell_type": "markdown",
   "metadata": {},
   "source": [
    "### Ejercicio\n",
    "\n",
    "Consulta la documentación de estas dos APIs:\n",
    "\n",
    "* [Nominatim - reverse geocoding](http://wiki.openstreetmap.org/wiki/Nominatim#Reverse_Geocoding)\n",
    "* [UK Police - crimes at location](https://data.police.uk/docs/method/crimes-at-location)\n",
    "\n",
    "Primero, consulta a la API de Nominatim para conocer cuál es la dirección asociada a estas coordenadas:\n",
    "\n",
    "* Latitud: 51.4965946\n",
    "* Longitud: -0.1436476\n",
    "\n",
    "El resultado debe estar en formato JSON.\n",
    "Luego, consulta a la API de la policía de UK los crímenes que se cometieron en esa localización en julio de 2018"
   ]
  },
  {
   "cell_type": "code",
   "execution_count": 38,
   "metadata": {
    "scrolled": false
   },
   "outputs": [
    {
     "name": "stdout",
     "output_type": "stream",
     "text": [
      "https://data.police.uk/api/crimes-at-location?date=2018-07&location_id=953339\n"
     ]
    },
    {
     "data": {
      "text/plain": [
       "[{'category': 'other-theft',\n",
       "  'location_type': 'Force',\n",
       "  'location': {'latitude': '51.496602',\n",
       "   'street': {'id': 953339, 'name': 'On or near Victoria Street'},\n",
       "   'longitude': '-0.143827'},\n",
       "  'context': '',\n",
       "  'outcome_status': {'category': 'Status update unavailable',\n",
       "   'date': '2018-11'},\n",
       "  'persistent_id': '135c66ac6fb8a55203fc6f7280bb4c3a152df5c64d7e7a28994a6a35bc586e90',\n",
       "  'id': 66682430,\n",
       "  'location_subtype': '',\n",
       "  'month': '2018-07'},\n",
       " {'category': 'other-theft',\n",
       "  'location_type': 'Force',\n",
       "  'location': {'latitude': '51.496602',\n",
       "   'street': {'id': 953339, 'name': 'On or near Victoria Street'},\n",
       "   'longitude': '-0.143827'},\n",
       "  'context': '',\n",
       "  'outcome_status': {'category': 'Investigation complete; no suspect identified',\n",
       "   'date': '2018-07'},\n",
       "  'persistent_id': 'c33b9ccf37cbf501f9c79f86517c697fedef478378c0ff3a370a5bede5e63293',\n",
       "  'id': 66694477,\n",
       "  'location_subtype': '',\n",
       "  'month': '2018-07'},\n",
       " {'category': 'other-theft',\n",
       "  'location_type': 'Force',\n",
       "  'location': {'latitude': '51.496602',\n",
       "   'street': {'id': 953339, 'name': 'On or near Victoria Street'},\n",
       "   'longitude': '-0.143827'},\n",
       "  'context': '',\n",
       "  'outcome_status': {'category': 'Status update unavailable',\n",
       "   'date': '2018-11'},\n",
       "  'persistent_id': 'f1f10696b3700a0ff91d07661e45733ec2e03c74393cfd8d68f58b42c0dde822',\n",
       "  'id': 66677176,\n",
       "  'location_subtype': '',\n",
       "  'month': '2018-07'},\n",
       " {'category': 'other-theft',\n",
       "  'location_type': 'Force',\n",
       "  'location': {'latitude': '51.496602',\n",
       "   'street': {'id': 953339, 'name': 'On or near Victoria Street'},\n",
       "   'longitude': '-0.143827'},\n",
       "  'context': '',\n",
       "  'outcome_status': {'category': 'Status update unavailable',\n",
       "   'date': '2018-11'},\n",
       "  'persistent_id': '6b1ec82b8e83b2dabec5a5de9c321bfbeeefcc889ef04017416717dc4682977a',\n",
       "  'id': 66661547,\n",
       "  'location_subtype': '',\n",
       "  'month': '2018-07'},\n",
       " {'category': 'other-theft',\n",
       "  'location_type': 'Force',\n",
       "  'location': {'latitude': '51.496602',\n",
       "   'street': {'id': 953339, 'name': 'On or near Victoria Street'},\n",
       "   'longitude': '-0.143827'},\n",
       "  'context': '',\n",
       "  'outcome_status': {'category': 'Investigation complete; no suspect identified',\n",
       "   'date': '2018-07'},\n",
       "  'persistent_id': 'cdcf8a4e2ccd84f22a2b2b57ca324366e77ccad2eb46c205a92145f837a6a9a1',\n",
       "  'id': 66663114,\n",
       "  'location_subtype': '',\n",
       "  'month': '2018-07'},\n",
       " {'category': 'other-theft',\n",
       "  'location_type': 'Force',\n",
       "  'location': {'latitude': '51.496602',\n",
       "   'street': {'id': 953339, 'name': 'On or near Victoria Street'},\n",
       "   'longitude': '-0.143827'},\n",
       "  'context': '',\n",
       "  'outcome_status': {'category': 'Status update unavailable',\n",
       "   'date': '2018-11'},\n",
       "  'persistent_id': '1241e77c59b8cb46c8c5cfa2385018c8572286da7701a13c2d3713a7ae89ac66',\n",
       "  'id': 66706127,\n",
       "  'location_subtype': '',\n",
       "  'month': '2018-07'},\n",
       " {'category': 'public-order',\n",
       "  'location_type': 'Force',\n",
       "  'location': {'latitude': '51.496602',\n",
       "   'street': {'id': 953339, 'name': 'On or near Victoria Street'},\n",
       "   'longitude': '-0.143827'},\n",
       "  'context': '',\n",
       "  'outcome_status': {'category': 'Offender given a caution',\n",
       "   'date': '2018-08'},\n",
       "  'persistent_id': 'e86aa5d7305b3032bd9427d6fcb43384ee3c9f4ffd6051d57e8f0239c9748bcf',\n",
       "  'id': 66663903,\n",
       "  'location_subtype': '',\n",
       "  'month': '2018-07'},\n",
       " {'category': 'robbery',\n",
       "  'location_type': 'Force',\n",
       "  'location': {'latitude': '51.496602',\n",
       "   'street': {'id': 953339, 'name': 'On or near Victoria Street'},\n",
       "   'longitude': '-0.143827'},\n",
       "  'context': '',\n",
       "  'outcome_status': {'category': 'Status update unavailable',\n",
       "   'date': '2018-11'},\n",
       "  'persistent_id': '180c674b7c6e7bd45d5d4bfcaa345bfd4a365abc66e7ffb82d68286ee805981b',\n",
       "  'id': 66680012,\n",
       "  'location_subtype': '',\n",
       "  'month': '2018-07'},\n",
       " {'category': 'theft-from-the-person',\n",
       "  'location_type': 'Force',\n",
       "  'location': {'latitude': '51.496602',\n",
       "   'street': {'id': 953339, 'name': 'On or near Victoria Street'},\n",
       "   'longitude': '-0.143827'},\n",
       "  'context': '',\n",
       "  'outcome_status': {'category': 'Status update unavailable',\n",
       "   'date': '2018-11'},\n",
       "  'persistent_id': '563237a95056e032d05512afcffe0192aa603f3af4607de9bf6bd95d62deb5b1',\n",
       "  'id': 66662904,\n",
       "  'location_subtype': '',\n",
       "  'month': '2018-07'},\n",
       " {'category': 'theft-from-the-person',\n",
       "  'location_type': 'Force',\n",
       "  'location': {'latitude': '51.496602',\n",
       "   'street': {'id': 953339, 'name': 'On or near Victoria Street'},\n",
       "   'longitude': '-0.143827'},\n",
       "  'context': '',\n",
       "  'outcome_status': {'category': 'Status update unavailable',\n",
       "   'date': '2018-11'},\n",
       "  'persistent_id': '574bc744ebdaf4ec0f53ca048a1c4a313d51bef4a809e553670528392d050694',\n",
       "  'id': 66692437,\n",
       "  'location_subtype': '',\n",
       "  'month': '2018-07'},\n",
       " {'category': 'violent-crime',\n",
       "  'location_type': 'Force',\n",
       "  'location': {'latitude': '51.496602',\n",
       "   'street': {'id': 953339, 'name': 'On or near Victoria Street'},\n",
       "   'longitude': '-0.143827'},\n",
       "  'context': '',\n",
       "  'outcome_status': {'category': 'Status update unavailable',\n",
       "   'date': '2018-11'},\n",
       "  'persistent_id': '58638a3e9296eaad16f67efc1eebc7939bd0fb73ea9989ddf69a4ad83db653b4',\n",
       "  'id': 66682678,\n",
       "  'location_subtype': '',\n",
       "  'month': '2018-07'}]"
      ]
     },
     "execution_count": 38,
     "metadata": {},
     "output_type": "execute_result"
    }
   ],
   "source": [
    "data = {'date':'2018-07', 'location_id': '953339'}\n",
    "r = requests.get('https://data.police.uk/api/crimes-at-location', params=data)\n",
    "print(r.url)\n",
    "r.json()"
   ]
  },
  {
   "cell_type": "markdown",
   "metadata": {},
   "source": [
    "## Ejercicio swapi\n",
    "\n",
    "Haz una petición a la API de [swapi](https://swapi.dev/documentation) con una búsqueda de todos los personajes que tengan el apellido `skywalker`. Examina la respuesta e imprime los nombres resultantes utilizando una `list comprehension` (no utilices bucles)."
   ]
  },
  {
   "cell_type": "code",
   "execution_count": 39,
   "metadata": {},
   "outputs": [
    {
     "name": "stdout",
     "output_type": "stream",
     "text": [
      "https://swapi.dev/api/people/?search=skywalker\n",
      "['Luke Skywalker', 'Anakin Skywalker', 'Shmi Skywalker']\n"
     ]
    }
   ],
   "source": [
    "data = {'search':'skywalker'}\n",
    "r = requests.get('https://swapi.dev/api/people/', params=data)\n",
    "print(r.url)\n",
    "result = r.json()\n",
    "characters = result['results']\n",
    "names = [character['name'] for character in characters]\n",
    "print(names)"
   ]
  },
  {
   "cell_type": "code",
   "execution_count": null,
   "metadata": {},
   "outputs": [],
   "source": []
  }
 ],
 "metadata": {
  "kernelspec": {
   "display_name": "Python 3",
   "language": "python",
   "name": "python3"
  },
  "language_info": {
   "codemirror_mode": {
    "name": "ipython",
    "version": 3
   },
   "file_extension": ".py",
   "mimetype": "text/x-python",
   "name": "python",
   "nbconvert_exporter": "python",
   "pygments_lexer": "ipython3",
   "version": "3.7.4"
  }
 },
 "nbformat": 4,
 "nbformat_minor": 2
}
