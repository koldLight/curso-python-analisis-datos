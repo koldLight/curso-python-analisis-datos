{
 "cells": [
  {
   "cell_type": "code",
   "execution_count": 1,
   "metadata": {},
   "outputs": [],
   "source": [
    "# Ponemos como ruta principal la carpeta padre de \"soluciones\"\n",
    "# para que las rutas relativas queden igual que en la carpeta de notebooks\n",
    "import paths\n",
    "\n",
    "# Otras dependencias\n",
    "import pandas as pd"
   ]
  },
  {
   "cell_type": "markdown",
   "metadata": {},
   "source": [
    "### Ejercicio\n",
    "\n",
    "Sobre el siguiente DataFrame, crea dos columnas separadas, una para el importe (que sea float) y otra para la divisa (que sea cadena de texto)"
   ]
  },
  {
   "cell_type": "code",
   "execution_count": 17,
   "metadata": {},
   "outputs": [],
   "source": [
    "importes = pd.DataFrame({'importe_divisa': ['592,50 EUR', '690,10 USD', '2951 GBP']})\n",
    "result = map(separate, importes.importe_divisa)"
   ]
  },
  {
   "cell_type": "code",
   "execution_count": 20,
   "metadata": {},
   "outputs": [
    {
     "name": "stdout",
     "output_type": "stream",
     "text": [
      "  importe_divisa\n",
      "0     592,50 EUR\n",
      "1     690,10 USD\n",
      "2       2951 GBP\n"
     ]
    }
   ],
   "source": [
    "def separate(s): return s.split(' ')\n",
    "for row in list(result):\n",
    "    for element in row:\n",
    "        if(element.isdigit()):\n",
    "            importes.importe_divisa['importe'] = float(element)\n",
    "        else:\n",
    "            importes.importe_divisa['divisa'] = element\n",
    "print(importes)"
   ]
  },
  {
   "cell_type": "markdown",
   "metadata": {
    "scrolled": true
   },
   "source": [
    "### Expresiones regulares"
   ]
  },
  {
   "cell_type": "markdown",
   "metadata": {},
   "source": [
    "### Ejercicio\n",
    "Con expresiones regulares, realiza los siguientes ejercicios:\n",
    "\n",
    "Sobre la cadena '30 del 04 para el 2018', extrae:\n",
    "\n",
    "* Todos los números de forma independiente. Es decir, resultará una lista con 3, 0, 0, 4, ...\n",
    "* Todos los números de forma consecutiva. Es decir, resultará una lista con 30, 04, 2018.\n",
    "* Extrae las palabras de '30 del 04 para el 2018'. Saldrá del, para, ...\n",
    "* Extrae el último número consecutivo. Saldrá 2018.\n",
    "* Transfórmala para convertirla a formato ISO (es decir, yyyy-mm-dd)"
   ]
  },
  {
   "cell_type": "code",
   "execution_count": 17,
   "metadata": {},
   "outputs": [
    {
     "data": {
      "text/plain": [
       "['3', '0', '0', '4', '2', '0', '1', '8']"
      ]
     },
     "execution_count": 17,
     "metadata": {},
     "output_type": "execute_result"
    }
   ],
   "source": [
    "#Importamos re\n",
    "import re\n",
    "#Todos los números de forma independiente\n",
    "cadena = '30 del 04 para el 2018'\n",
    "re.findall(r'([0-9]{1})', cadena)"
   ]
  },
  {
   "cell_type": "code",
   "execution_count": 18,
   "metadata": {},
   "outputs": [
    {
     "data": {
      "text/plain": [
       "['30', '04', '2018']"
      ]
     },
     "execution_count": 18,
     "metadata": {},
     "output_type": "execute_result"
    }
   ],
   "source": [
    "#Todos los números de forma consecutiva\n",
    "re.findall(r'[0-9]+', cadena)"
   ]
  },
  {
   "cell_type": "code",
   "execution_count": 20,
   "metadata": {},
   "outputs": [
    {
     "data": {
      "text/plain": [
       "['del', 'para', 'el']"
      ]
     },
     "execution_count": 20,
     "metadata": {},
     "output_type": "execute_result"
    }
   ],
   "source": [
    "#Extraemos las palabras\n",
    "re.findall(r'[a-z]+', cadena)"
   ]
  },
  {
   "cell_type": "code",
   "execution_count": 23,
   "metadata": {},
   "outputs": [
    {
     "data": {
      "text/plain": [
       "['2018']"
      ]
     },
     "execution_count": 23,
     "metadata": {},
     "output_type": "execute_result"
    }
   ],
   "source": [
    "#Extraemos el último número consecutivo\n",
    "re.findall(r'(\\d+)(?!.*\\d)', cadena)"
   ]
  },
  {
   "cell_type": "code",
   "execution_count": 31,
   "metadata": {},
   "outputs": [
    {
     "data": {
      "text/plain": [
       "' 2018-04-30 '"
      ]
     },
     "execution_count": 31,
     "metadata": {},
     "output_type": "execute_result"
    }
   ],
   "source": [
    "#Transformamos la cadena para darle el formato ISO\n",
    "re.sub(r'([0-3][0-9]).*([0-1][0-9]).*(\\d{4})', r' \\3-\\2-\\1 ', cadena)"
   ]
  },
  {
   "cell_type": "markdown",
   "metadata": {},
   "source": [
    "### Listas"
   ]
  },
  {
   "cell_type": "markdown",
   "metadata": {},
   "source": [
    "#### Ejercicio\n",
    "\n",
    "Crea una lista que contenga las palabras de `frase` que tengan una longitud de más de 5 caracteres."
   ]
  },
  {
   "cell_type": "code",
   "execution_count": 14,
   "metadata": {},
   "outputs": [
    {
     "data": {
      "text/plain": [
       "['Estoy', 'curso', 'python', 'ciencia', 'datos']"
      ]
     },
     "execution_count": 14,
     "metadata": {},
     "output_type": "execute_result"
    }
   ],
   "source": [
    "frase = 'Estoy en el curso de python para ciencia de datos'\n",
    "total_palabras = frase.split()\n",
    "[f'{palabra}' for palabra in total_palabras if len(palabra) >= 5]"
   ]
  },
  {
   "cell_type": "markdown",
   "metadata": {},
   "source": [
    "#### Ejercicio\n",
    "\n",
    "Elimina las vocales de la frase anterior"
   ]
  },
  {
   "cell_type": "code",
   "execution_count": 17,
   "metadata": {},
   "outputs": [
    {
     "name": "stdout",
     "output_type": "stream",
     "text": [
      "Esty n l crs d pythn pr cnc d dts\n"
     ]
    }
   ],
   "source": [
    "frase = 'Estoy en el curso de python para ciencia de datos'\n",
    "vocales = 'aeiou'\n",
    "sinvocales = ''.join(letra for letra in frase if letra not in vocales)\n",
    "print(sinvocales)"
   ]
  },
  {
   "cell_type": "markdown",
   "metadata": {},
   "source": [
    "#### Ejercicio\n",
    "\n",
    "Calcula la lista de los cuadrados de:"
   ]
  },
  {
   "cell_type": "code",
   "execution_count": 19,
   "metadata": {},
   "outputs": [
    {
     "name": "stdout",
     "output_type": "stream",
     "text": [
      "[4, 9, 25, 49]\n"
     ]
    }
   ],
   "source": [
    "lista = [2, 3, 5, 7]\n",
    "cuadrados = [number * number for number in lista] \n",
    "print(cuadrados)"
   ]
  },
  {
   "cell_type": "markdown",
   "metadata": {},
   "source": [
    "### Diccionarios"
   ]
  },
  {
   "cell_type": "markdown",
   "metadata": {},
   "source": [
    "#### Ejercicio\n",
    "\n",
    "A partir del diccionario `precios_por_distrito`, crea un diccionario donde la clave sea el distrito y el valor, otro diccionario con dos elementos: el precio mínimo (la clave será `minimo`) y el máximo (con clave `maximo`)."
   ]
  },
  {
   "cell_type": "code",
   "execution_count": 1,
   "metadata": {},
   "outputs": [
    {
     "data": {
      "text/plain": [
       "{'Arganzuela': {'minimo': 1920.4065754345897, 'maximo': 3980.43306658443},\n",
       " 'Barajas': {'minimo': 1661.89030566455, 'maximo': 3730.1779520808},\n",
       " 'Carabanchel': {'minimo': 1358.55787972897, 'maximo': 3227.6873594259996},\n",
       " 'Centro': {'minimo': 1857.41441612893, 'maximo': 4987.19887607627},\n",
       " 'Chamartín': {'minimo': 2523.68801546582, 'maximo': 5028.7606510284495},\n",
       " 'Chamberí': {'minimo': 2264.7895662852898, 'maximo': 5202.006707450821},\n",
       " 'Ciudad Lineal': {'minimo': 2006.8859076291199, 'maximo': 3818.3598512111207},\n",
       " 'Fuencarral': {'minimo': 2047.43064685387, 'maximo': 3920.54885583231},\n",
       " 'Hortaleza': {'minimo': 2098.2717490201003, 'maximo': 3950.0356215050606},\n",
       " 'Latina': {'minimo': 1473.8692762737803, 'maximo': 3239.46764244599},\n",
       " 'Moncloa': {'minimo': 2019.07068648125, 'maximo': 4430.00381720687},\n",
       " 'Moratalaz': {'minimo': 1672.70935515272, 'maximo': 3391.0740941292997},\n",
       " 'Puente De Vallecas': {'minimo': 1344.08002441389,\n",
       "  'maximo': 3138.16619810753},\n",
       " 'Retiro': {'minimo': 2152.36137617549, 'maximo': 4875.669322096111},\n",
       " 'Salamanca': {'minimo': 2437.77633210158, 'maximo': 5929.503382679461},\n",
       " 'San Blas': {'minimo': 1666.29660945609, 'maximo': 3453.60218268776},\n",
       " 'Tetuán': {'minimo': 2063.82501950686, 'maximo': 3963.97896418851},\n",
       " 'Usera': {'minimo': 1292.14858687068, 'maximo': 3096.2097085769},\n",
       " 'Vicálvaro': {'minimo': 1505.91052361511, 'maximo': 3294.3617906114},\n",
       " 'Villa De Vallecas': {'minimo': 1270.61727331786, 'maximo': 3175.93995680773},\n",
       " 'Villaverde': {'minimo': 1110.5403031765302, 'maximo': 2867.49730693443}}"
      ]
     },
     "execution_count": 1,
     "metadata": {},
     "output_type": "execute_result"
    }
   ],
   "source": [
    "import paths\n",
    "import pandas as pd\n",
    "\n",
    "venta = pd.read_csv(\"dat/venta-madrid-distritos.csv\", index_col=False)\n",
    "venta = venta[venta.precio.notnull()]\n",
    "precios_por_distrito = venta.groupby('distrito').precio.apply(lambda precios: precios.tolist()).to_dict()\n",
    "{distrito: {'minimo': min(valor), 'maximo': max(valor)} for distrito, valor in precios_por_distrito.items()}"
   ]
  },
  {
   "cell_type": "markdown",
   "metadata": {},
   "source": [
    "### Fechas"
   ]
  },
  {
   "cell_type": "markdown",
   "metadata": {},
   "source": [
    "#### Ejercicio\n",
    "\n",
    "Formatea fecha_hora con formato 12 horas en lugar de 24 e indicando si es AM o PM"
   ]
  },
  {
   "cell_type": "code",
   "execution_count": 16,
   "metadata": {},
   "outputs": [
    {
     "data": {
      "text/plain": [
       "datetime.datetime(2019, 3, 30, 14, 35, 59)"
      ]
     },
     "execution_count": 16,
     "metadata": {},
     "output_type": "execute_result"
    }
   ],
   "source": [
    "from datetime import date, datetime\n",
    "fecha_hora = datetime(2019, 3, 30, 14, 35, 59)\n",
    "fecha_hora"
   ]
  },
  {
   "cell_type": "code",
   "execution_count": 18,
   "metadata": {},
   "outputs": [
    {
     "data": {
      "text/plain": [
       "'2019-03-30 02:35:59 PM'"
      ]
     },
     "execution_count": 18,
     "metadata": {},
     "output_type": "execute_result"
    }
   ],
   "source": [
    "fecha_hora.strftime('%Y-%m-%d %I:%M:%S %p')"
   ]
  },
  {
   "cell_type": "markdown",
   "metadata": {},
   "source": [
    "#### Ejercicio\n",
    "\n",
    "Parsea a fecha:\n",
    "\n",
    "* `'20/05/2018'`\n",
    "* `'2018-05-20'`"
   ]
  },
  {
   "cell_type": "code",
   "execution_count": 28,
   "metadata": {},
   "outputs": [
    {
     "data": {
      "text/plain": [
       "datetime.datetime(2018, 5, 20, 0, 0)"
      ]
     },
     "execution_count": 28,
     "metadata": {},
     "output_type": "execute_result"
    }
   ],
   "source": [
    "fecha_primera = datetime.strptime('20/05/2018', '%d/%m/%Y')\n",
    "fecha_primera"
   ]
  },
  {
   "cell_type": "code",
   "execution_count": 29,
   "metadata": {},
   "outputs": [
    {
     "data": {
      "text/plain": [
       "datetime.datetime(2018, 5, 20, 0, 0)"
      ]
     },
     "execution_count": 29,
     "metadata": {},
     "output_type": "execute_result"
    }
   ],
   "source": [
    "fecha_segunda = datetime.strptime('2018-05-20', '%Y-%m-%d')\n",
    "fecha_segunda"
   ]
  },
  {
   "cell_type": "markdown",
   "metadata": {},
   "source": [
    "### Bucles"
   ]
  },
  {
   "cell_type": "markdown",
   "metadata": {},
   "source": [
    "#### Ejercicio\n",
    "\n",
    "Usa un bucle que devuelva el mismo resultado que la compresión de lista que ya hemos visto\n",
    "\n",
    "```\n",
    "[f'{precio} €' for precio in precios]\n",
    "```"
   ]
  },
  {
   "cell_type": "code",
   "execution_count": 4,
   "metadata": {},
   "outputs": [
    {
     "name": "stdout",
     "output_type": "stream",
     "text": [
      "['2300 €', '1942 €', '3455 €', '4100 €', '600 €', '1230 €']\n"
     ]
    }
   ],
   "source": [
    "precios = [2300, 1942, 3455, 4100, 600, 1230]\n",
    "precios_euros = []\n",
    "def formatea_precio(precio):\n",
    "    return str(precio) + ' €'\n",
    "for precio in precios:\n",
    "    precios_euros.append(formatea_precio(precio))\n",
    "print(precios_euros)"
   ]
  },
  {
   "cell_type": "markdown",
   "metadata": {},
   "source": [
    "### Expresiones condicionales"
   ]
  },
  {
   "cell_type": "markdown",
   "metadata": {},
   "source": [
    "#### Ejercicio\n",
    "\n",
    "Construye una función que, dado un precio y un umbral, devuelva la cadena `caro` o `barato` según si el precio está por encima o por debajo del umbral. Crea entonces una columna adicional en `venta` usando como umbral la mediana del precio."
   ]
  },
  {
   "cell_type": "code",
   "execution_count": 16,
   "metadata": {},
   "outputs": [],
   "source": [
    "venta['mediana'] = venta.groupby('distrito').precio.transform('median')\n",
    "def tipo_precio(precio, umbral):\n",
    "    if umbral > precio:\n",
    "        return 'barato'\n",
    "    else: \n",
    "        return 'caro'"
   ]
  },
  {
   "cell_type": "markdown",
   "metadata": {},
   "source": [
    "#### Ejercicio\n",
    "\n",
    "Usa la función del ejercicio anterior, bucles, etc. para crear una columna adicional en `venta` que indique si el precio de un piso es caro o barato según supere o no la mediana de precios de su distrito."
   ]
  },
  {
   "cell_type": "code",
   "execution_count": 41,
   "metadata": {},
   "outputs": [
    {
     "name": "stdout",
     "output_type": "stream",
     "text": [
      "     distrito   ano  quarter       precio      mediana   venta\n",
      "16     Tetuán  2001        1  2063.825020  3227.767592  barato\n",
      "37     Tetuán  2001        2  2254.026720  3227.767592  barato\n",
      "58     Tetuán  2001        3  2287.169543  3227.767592  barato\n",
      "79     Tetuán  2001        4  2321.009574  3227.767592  barato\n",
      "100    Tetuán  2002        1  2474.372011  3227.767592  barato\n",
      "...       ...   ...      ...          ...          ...     ...\n",
      "1381   Tetuán  2017        2  3022.064288  3227.767592  barato\n",
      "1402   Tetuán  2017        3  3073.203746  3227.767592  barato\n",
      "1423   Tetuán  2017        4  3150.590133  3227.767592  barato\n",
      "1444   Tetuán  2018        1  3411.186852  3227.767592    caro\n",
      "1465   Tetuán  2018        2  3557.922318  3227.767592    caro\n",
      "\n",
      "[68 rows x 6 columns]\n"
     ]
    }
   ],
   "source": [
    "for i, row in venta.iterrows():\n",
    "    venta.at[i, 'venta'] = tipo_precio(row.precio, row.mediana)\n",
    "\n",
    "print(venta[(venta.distrito == 'Tetuán')])"
   ]
  },
  {
   "cell_type": "code",
   "execution_count": null,
   "metadata": {},
   "outputs": [],
   "source": []
  }
 ],
 "metadata": {
  "kernelspec": {
   "display_name": "Python 3",
   "language": "python",
   "name": "python3"
  },
  "language_info": {
   "codemirror_mode": {
    "name": "ipython",
    "version": 3
   },
   "file_extension": ".py",
   "mimetype": "text/x-python",
   "name": "python",
   "nbconvert_exporter": "python",
   "pygments_lexer": "ipython3",
   "version": "3.7.4"
  }
 },
 "nbformat": 4,
 "nbformat_minor": 2
}
