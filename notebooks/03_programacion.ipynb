{
 "cells": [
  {
   "cell_type": "markdown",
   "metadata": {
    "collapsed": true
   },
   "source": [
    "# Introducción a la programación en Python\n",
    "\n",
    "Python es un lenguaje de programación. En los _notebooks_ previos, casi todo el trabajo que hemos realizado es prácticamente interactivo, aunque en un par de ocasiones nos hemos visto obligados a utilizar funciones o bucles.\n",
    "\n",
    "En este _notebook_ aprenderemos los rudimentos de la programación en Python, comenzando con tipos de datos y terminando con la definición de funciones simples."
   ]
  },
  {
   "cell_type": "code",
   "execution_count": null,
   "metadata": {},
   "outputs": [],
   "source": [
    "import pandas as pd"
   ]
  },
  {
   "cell_type": "markdown",
   "metadata": {},
   "source": [
    "## Tipos de datos"
   ]
  },
  {
   "cell_type": "markdown",
   "metadata": {},
   "source": [
    "### _Strings_\n",
    "\n",
    "Vamos a ver una serie de funciones útiles para operar con _strings_, i.e., texto, en Python. Las operaciones básicas con cadenas son las de concatenar, partir en _tokens_, buscar y reemplazar.\n",
    "\n",
    "Las operaciones con cadenas de texto en Python son similares a las de otros lenguajes de programación."
   ]
  },
  {
   "cell_type": "markdown",
   "metadata": {},
   "source": [
    "`len()` nos devuelve la longitud (número de caracteres) de la cadena de texto:"
   ]
  },
  {
   "cell_type": "code",
   "execution_count": null,
   "metadata": {},
   "outputs": [],
   "source": [
    "len('Python')"
   ]
  },
  {
   "cell_type": "markdown",
   "metadata": {},
   "source": [
    "Las cadenas de texto también se pueden _seccionar_ usando los corchetes:"
   ]
  },
  {
   "cell_type": "code",
   "execution_count": null,
   "metadata": {},
   "outputs": [],
   "source": [
    "a = 'Python'\n",
    "b = a[2:4]\n",
    "b"
   ]
  },
  {
   "cell_type": "markdown",
   "metadata": {},
   "source": [
    "Para separar una cadena por uno o varios caracteres, creando una lista con el resultado, usamos `split()`"
   ]
  },
  {
   "cell_type": "code",
   "execution_count": null,
   "metadata": {
    "scrolled": true
   },
   "outputs": [],
   "source": [
    "profesiones = 'analista,consultor informático,jefe de proyecto'.split(',')\n",
    "profesiones"
   ]
  },
  {
   "cell_type": "markdown",
   "metadata": {},
   "source": [
    "La operación complementaria a `split()` es `join()`, que une los elementos de una lista en una cadena de texto"
   ]
  },
  {
   "cell_type": "code",
   "execution_count": null,
   "metadata": {},
   "outputs": [],
   "source": [
    "','.join(profesiones)"
   ]
  },
  {
   "cell_type": "markdown",
   "metadata": {},
   "source": [
    "Aunque también se puede concatenar usando `+` entre dos cadenas de texto:"
   ]
  },
  {
   "cell_type": "code",
   "execution_count": null,
   "metadata": {},
   "outputs": [],
   "source": [
    "my_file = 'procesar.py'\n",
    "print('Error en el programa ' + my_file)"
   ]
  },
  {
   "cell_type": "markdown",
   "metadata": {},
   "source": [
    "**Nota:** si usas `+` entre una cadena de texto y un tipo diferente de dato, fallará. Por ejemplo, `3 + ' €'` es incorrecto. En su lugar, convierte el tipo de dato antes, haciendo: `str(3) + ' €'`."
   ]
  },
  {
   "cell_type": "markdown",
   "metadata": {},
   "source": [
    "`strip()` elimina espacios en blanco delante y detrás"
   ]
  },
  {
   "cell_type": "code",
   "execution_count": null,
   "metadata": {},
   "outputs": [],
   "source": [
    "'    hola '.strip()"
   ]
  },
  {
   "cell_type": "markdown",
   "metadata": {},
   "source": [
    "`lower` y `upper` pasan todo a minúsculas o mayúsculas"
   ]
  },
  {
   "cell_type": "code",
   "execution_count": null,
   "metadata": {},
   "outputs": [],
   "source": [
    "'pyThon'.lower()"
   ]
  },
  {
   "cell_type": "markdown",
   "metadata": {},
   "source": [
    "Si tenemos una cadena de texto que puede ser transformada a entero, podemos usar `float()` para decimales e `int()` para enteros"
   ]
  },
  {
   "cell_type": "code",
   "execution_count": null,
   "metadata": {},
   "outputs": [],
   "source": [
    "n = float('3.1416')\n",
    "print(n, type(n))"
   ]
  },
  {
   "cell_type": "code",
   "execution_count": null,
   "metadata": {},
   "outputs": [],
   "source": [
    "n = int('531')\n",
    "print(n, type(n))"
   ]
  },
  {
   "cell_type": "markdown",
   "metadata": {},
   "source": [
    "`replace()` sustituye trozos de cadenas por otros"
   ]
  },
  {
   "cell_type": "code",
   "execution_count": null,
   "metadata": {},
   "outputs": [],
   "source": [
    "'Hola NOMBRE'.replace('NOMBRE', 'paquito')"
   ]
  },
  {
   "cell_type": "markdown",
   "metadata": {},
   "source": [
    "#### Ejercicio\n",
    "\n",
    "Sobre el siguiente DataFrame, crea dos columnas separadas, una para el importe (que sea float) y otra para la divisa (que sea cadena de texto)"
   ]
  },
  {
   "cell_type": "code",
   "execution_count": null,
   "metadata": {},
   "outputs": [],
   "source": [
    "importes = pd.DataFrame({'importe_divisa': ['592,50 EUR', '690,10 USD', '2951 GBP']})\n",
    "importes"
   ]
  },
  {
   "cell_type": "code",
   "execution_count": null,
   "metadata": {},
   "outputs": [],
   "source": []
  },
  {
   "cell_type": "markdown",
   "metadata": {},
   "source": [
    "### Expresiones regulares\n",
    "\n",
    "Tanto en Python como en casi todos los lenguajes de programación, trabajar _en serio_ con cadenas de texto implica usar [_expresiones regulares_](https://es.wikipedia.org/wiki/Expresi%C3%B3n_regular). Las expresiones regulares permiten buscar patrones en texto, reemplazar y realizar muchas operaciones avanzadas sobre cadenas de caracteres.\n",
    "\n",
    "Consulta [esta guía](https://www.dataquest.io/blog/regex-cheatsheet/) acerca del uso de las expresiones regulares en Python."
   ]
  },
  {
   "cell_type": "code",
   "execution_count": null,
   "metadata": {},
   "outputs": [],
   "source": [
    "import re"
   ]
  },
  {
   "cell_type": "markdown",
   "metadata": {},
   "source": [
    "#### Búsqueda\n",
    "\n",
    "`re.findall` sirve para encontrar todas las subcadenas que coinciden con un patrón.\n",
    "\n",
    "Por ejemplo, si queremos encontrar todos los números de un texto:"
   ]
  },
  {
   "cell_type": "code",
   "execution_count": null,
   "metadata": {},
   "outputs": [],
   "source": [
    "cadena = 'Compra de 13 bolígrafos y 200 folios'\n",
    "re.findall(r'[0-9]+', cadena)"
   ]
  },
  {
   "cell_type": "markdown",
   "metadata": {},
   "source": [
    "O todos los emails:"
   ]
  },
  {
   "cell_type": "code",
   "execution_count": null,
   "metadata": {},
   "outputs": [],
   "source": [
    "cadena = 'To: lola@dominio.com; Cc: rosa.garcia@otracosa.com; From: ana_perez@blabla.es'\n",
    "re.findall(r'[0-9a-z._]+@[0-9a-z._]+', cadena)"
   ]
  },
  {
   "cell_type": "markdown",
   "metadata": {},
   "source": [
    "#### Sustitución\n",
    "\n",
    "`re.sub` sustituye un patrón por una cadena de texto. Se suele utilizar para:\n",
    "\n",
    "* Eliminar o reemplazar partes no deseadas del texto\n",
    "* Quedarnos solo con la parte que nos interesa\n",
    "\n",
    "Además, esta función nos permite meter en el reemplazo partes del texto original. Esto lo podemos hacer gracias a la selección de grupos.\n",
    "\n",
    "Un ejemplo para eliminar partes no deseadas habitual es buscar los números decimales separados por comas, utilizando grupos para seleccionar la parte entera y la decimal:"
   ]
  },
  {
   "cell_type": "code",
   "execution_count": null,
   "metadata": {},
   "outputs": [],
   "source": [
    "cadena = '13 bolígrafos, precio: 10,25€. 200 folios, precio 4,35€'\n",
    "re.sub(r'([0-9]+)\\,([0-9]+)€', r'\\1.\\2€', cadena)"
   ]
  },
  {
   "cell_type": "markdown",
   "metadata": {},
   "source": [
    "Y otro ejemplo, para quedarnos solo con la parte que nos interesa. Para eliminar lo _no interesante_ tendremos que hacer que nuestra expresión regular haga match con la cadena entera. Esto lo podemos conseguir jugando con `^` (inicio de candea), `$` (final de cadena) y wildcards como `.` (hace match con cualquier carácter).\n",
    "\n",
    "En este caso, queremos quedarnos solo con el email. Vamos a usar dos trucos:\n",
    "\n",
    "* Seleccionar en un grupo la parte con la que nos queremos quedar en la cadena\n",
    "* Hacer match con el resto, para eliminarlo al reemplazar"
   ]
  },
  {
   "cell_type": "code",
   "execution_count": null,
   "metadata": {},
   "outputs": [],
   "source": [
    "cadena = 'Ana Pérez, 42 años, ana_perez@blabla.es, ingeniera aeroespacial'\n",
    "re.sub(r'^.*([0-9a-z._]+@[0-9a-z._]+).*$', r'\\1', cadena)"
   ]
  },
  {
   "cell_type": "markdown",
   "metadata": {},
   "source": [
    "¡Tenemos un problema! Las expresiones regulares son hambrientas de izquierda a derecha. Como el patrón `.*` también hace match con el principio del email, se lo come. Esto se suele solucionar forzando un parón entre el patrón hambriento y el que queremos que haga match realmente.\n",
    "\n",
    "Vamos a pararlo con un conjunto _inverso_ al que tiene que hacer match. Para hacer el conjunto inverso, utilizamos `[^...]`."
   ]
  },
  {
   "cell_type": "code",
   "execution_count": null,
   "metadata": {},
   "outputs": [],
   "source": [
    "cadena = 'Ana Pérez, 42 años, ana_perez@blabla.es, ingeniera aeroespacial'\n",
    "re.sub(r'^.*[^0-9a-z._]([0-9a-z._]+@[0-9a-z._]+).*$', r'\\1', cadena)"
   ]
  },
  {
   "cell_type": "markdown",
   "metadata": {},
   "source": [
    "#### Ejercicio\n",
    "\n",
    "Con expresiones regulares, realiza los siguientes ejercicios:\n",
    "\n",
    "Sobre la cadena `'30 del 04 para el 2018'`, extrae:\n",
    "\n",
    "* Todos los números de forma independiente. Es decir, resultará una lista con 3, 0, 0, 4, ...\n",
    "* Todos los números de forma consecutiva. Es decir, resultará una lista con 30, 04, 2018.\n",
    "* Extrae las palabras de `'30 del 04 para el 2018'`. Saldrá del, para, ...\n",
    "* Extrae el último número consecutivo. Saldrá 2018.\n",
    "* Transfórmala para convertirla a formato ISO (es decir, yyyy-mm-dd)"
   ]
  },
  {
   "cell_type": "code",
   "execution_count": null,
   "metadata": {},
   "outputs": [],
   "source": []
  },
  {
   "cell_type": "markdown",
   "metadata": {},
   "source": [
    "### Listas\n",
    "\n",
    "Las listas son contenedores de valores. Pueden ser de diferentes tipos de dato, aunque generalmente se usan para datos homogéneos (p.e., una lista de números).\n",
    "\n",
    "Las operaciones que se realizan más habitualmente con listas son:\n",
    "\n",
    "* Extrer elementos (p.e., los 10 primeros o los 5 últimos).\n",
    "* Añadir y borrar elementos.\n",
    "* Concatenar listas (con `+`)\n",
    "* Ordenar listas\n",
    "* Operaciones _funcionales_ clásicas:\n",
    "    * Map: aplicar una función a cada elemento\n",
    "    * Reduce: obtener un agregado (longitud, suma, media, etc.)\n",
    "    * Filter: obtener una sublista a partir de otra dada de acuerdo con algún criterio"
   ]
  },
  {
   "cell_type": "markdown",
   "metadata": {},
   "source": [
    "Ejemplo de creación de una lista"
   ]
  },
  {
   "cell_type": "code",
   "execution_count": null,
   "metadata": {},
   "outputs": [],
   "source": [
    "precios = [2300, 1942, 3455, 4100, 600, 1230]\n",
    "precios"
   ]
  },
  {
   "cell_type": "markdown",
   "metadata": {},
   "source": [
    "Para conocer la longitud de la lista, utilizamos `len`"
   ]
  },
  {
   "cell_type": "code",
   "execution_count": null,
   "metadata": {},
   "outputs": [],
   "source": [
    "len(precios)"
   ]
  },
  {
   "cell_type": "markdown",
   "metadata": {},
   "source": [
    "Para extrar un elemento en una determinada posición, ponemos entre corchetes el índice"
   ]
  },
  {
   "cell_type": "code",
   "execution_count": null,
   "metadata": {},
   "outputs": [],
   "source": [
    "precios[2]"
   ]
  },
  {
   "cell_type": "markdown",
   "metadata": {},
   "source": [
    "Si usamos índices negativos, extraemos elementos contando desde la derecha (-1 es el último elemento)"
   ]
  },
  {
   "cell_type": "code",
   "execution_count": null,
   "metadata": {},
   "outputs": [],
   "source": [
    "precios[-4:-2]"
   ]
  },
  {
   "cell_type": "markdown",
   "metadata": {},
   "source": [
    "Para extraer un rango:"
   ]
  },
  {
   "cell_type": "code",
   "execution_count": null,
   "metadata": {},
   "outputs": [],
   "source": [
    "precios[:3]"
   ]
  },
  {
   "cell_type": "markdown",
   "metadata": {},
   "source": [
    "Algunas funciones estadísticas como `min`, `max` y `sum` vienen cargadas por defecto. Con el paquete `statistics`, además, podemos calcular medianas, medias, etc. sobre una lista."
   ]
  },
  {
   "cell_type": "code",
   "execution_count": null,
   "metadata": {},
   "outputs": [],
   "source": [
    "min(precios)"
   ]
  },
  {
   "cell_type": "code",
   "execution_count": null,
   "metadata": {},
   "outputs": [],
   "source": [
    "from statistics import mean, median\n",
    "\n",
    "mean(precios)"
   ]
  },
  {
   "cell_type": "markdown",
   "metadata": {},
   "source": [
    "Para evaluar si un elemento está contenido en una lista, usaremos `in` o `not in`"
   ]
  },
  {
   "cell_type": "code",
   "execution_count": null,
   "metadata": {},
   "outputs": [],
   "source": [
    "600 in precios"
   ]
  },
  {
   "cell_type": "markdown",
   "metadata": {},
   "source": [
    "Para añadir un nuevo elemento, usamos `append` (esta función es _inplace_, es decir, modifica el objeto en lugar de devolver una nueva lista)"
   ]
  },
  {
   "cell_type": "code",
   "execution_count": null,
   "metadata": {},
   "outputs": [],
   "source": [
    "precios_2 = precios.copy()\n",
    "precios_2.append(650)\n",
    "precios_2"
   ]
  },
  {
   "cell_type": "markdown",
   "metadata": {},
   "source": [
    "**Nota:** Existe un módulo de Python, `numpy` que implementa sus propias listas (o `arrays`), más orientadas al cálculo numérico y matricial que son extensiones de estas listas genéricas. A su vez, las columnas de un `DataFrame` de `pandas` son extensiones de los `arrays` de `numpy`."
   ]
  },
  {
   "cell_type": "markdown",
   "metadata": {},
   "source": [
    "#### List comprehensions\n",
    "\n",
    "Son una forma concisa de iterar y operar sobre listas que combinan las operaciones _map_ y _filter_."
   ]
  },
  {
   "cell_type": "code",
   "execution_count": null,
   "metadata": {},
   "outputs": [],
   "source": [
    "[f'{precio} €' for precio in precios]"
   ]
  },
  {
   "cell_type": "markdown",
   "metadata": {},
   "source": [
    "**Nota:** fíjate en como funciona `f''`. Sirve para crear cadenas de texto mezclando texto normal y valor de variables"
   ]
  },
  {
   "cell_type": "markdown",
   "metadata": {},
   "source": [
    "También permiten filtrar elementos añadiendo un bloque con `if`"
   ]
  },
  {
   "cell_type": "code",
   "execution_count": null,
   "metadata": {},
   "outputs": [],
   "source": [
    "[f'{precio} €' for precio in precios if precio > 2000]"
   ]
  },
  {
   "cell_type": "markdown",
   "metadata": {},
   "source": [
    "Por lo indicado más arriba, las _list comprehensions_ funcionan también sobre columnas de `DataFrames`:"
   ]
  },
  {
   "cell_type": "code",
   "execution_count": null,
   "metadata": {},
   "outputs": [],
   "source": [
    "alquiler = pd.read_csv('dat/alquiler-madrid-distritos.csv', index_col=False)\n",
    "\n",
    "alquiler[\"precio_90_m\"] = [90 * precio for precio in alquiler.precio]\n",
    "# Nota: lo mismo puede obtenerse haciendo, como antes,\n",
    "# alquiler[\"precio_90_m\"] = 90 * alquiler.precio\n",
    "\n",
    "alquiler[\"trimestre\"] = [str(ano) + \"Q0\" + str(quarter) \n",
    "                         for ano, quarter in alquiler[['ano', 'quarter']].values]\n",
    "\n",
    "alquiler.head()"
   ]
  },
  {
   "cell_type": "markdown",
   "metadata": {},
   "source": [
    "#### Ejercicio\n",
    "\n",
    "Crea una lista que contenga las palabras de `frase` que tengan una longitud de más de 5 caracteres."
   ]
  },
  {
   "cell_type": "code",
   "execution_count": null,
   "metadata": {},
   "outputs": [],
   "source": [
    "frase = 'Estoy en el curso de python para ciencia de datos'"
   ]
  },
  {
   "cell_type": "code",
   "execution_count": null,
   "metadata": {},
   "outputs": [],
   "source": []
  },
  {
   "cell_type": "markdown",
   "metadata": {},
   "source": [
    "#### Ejercicio\n",
    "\n",
    "Elimina las vocales de la frase anterior"
   ]
  },
  {
   "cell_type": "code",
   "execution_count": null,
   "metadata": {},
   "outputs": [],
   "source": []
  },
  {
   "cell_type": "markdown",
   "metadata": {},
   "source": [
    "#### Ejercicio\n",
    "\n",
    "Calcula la lista de los cuadrados de:"
   ]
  },
  {
   "cell_type": "code",
   "execution_count": null,
   "metadata": {},
   "outputs": [],
   "source": [
    "lista = [2, 3, 5, 7]"
   ]
  },
  {
   "cell_type": "code",
   "execution_count": null,
   "metadata": {},
   "outputs": [],
   "source": []
  },
  {
   "cell_type": "markdown",
   "metadata": {},
   "source": [
    "### Diccionarios\n",
    "\n",
    "Los diccionarios son una colección de elementos clave-valor:"
   ]
  },
  {
   "cell_type": "code",
   "execution_count": 1,
   "metadata": {},
   "outputs": [
    {
     "data": {
      "text/plain": [
       "{'Moratalaz': 95000, 'Centro': 150000, 'Barajas': 46000}"
      ]
     },
     "execution_count": 1,
     "metadata": {},
     "output_type": "execute_result"
    }
   ],
   "source": [
    "poblacion = {'Moratalaz': 95000,\n",
    "             'Centro': 150000,\n",
    "             'Barajas': 46000}\n",
    "poblacion"
   ]
  },
  {
   "cell_type": "markdown",
   "metadata": {},
   "source": [
    "Para acceder a un elemento, podemos usar:\n",
    "\n",
    "* Los corchetes\n",
    "* La función `get`\n",
    "\n",
    "La diferencia es que get devuelve None en lugar de lanzar un error en caso de que la clave no exista"
   ]
  },
  {
   "cell_type": "code",
   "execution_count": null,
   "metadata": {},
   "outputs": [],
   "source": [
    "poblacion['Barajas']"
   ]
  },
  {
   "cell_type": "code",
   "execution_count": null,
   "metadata": {},
   "outputs": [],
   "source": [
    "poblacion.get('Tetuan')"
   ]
  },
  {
   "cell_type": "markdown",
   "metadata": {},
   "source": [
    "#### Dict comprehensions\n",
    "\n",
    "Es el equivalente de las list comprehensions en diccionarios"
   ]
  },
  {
   "cell_type": "code",
   "execution_count": 2,
   "metadata": {},
   "outputs": [
    {
     "data": {
      "text/plain": [
       "{'Moratalaz': 95.0, 'Centro': 150.0, 'Barajas': 46.0}"
      ]
     },
     "execution_count": 2,
     "metadata": {},
     "output_type": "execute_result"
    }
   ],
   "source": [
    "# Atención al .items() para poder iterar sobre clave y valor en el dict\n",
    "\n",
    "{distrito: (valor / 1000) for distrito, valor in poblacion.items()}"
   ]
  },
  {
   "cell_type": "markdown",
   "metadata": {},
   "source": [
    "#### Ejercicio\n",
    "\n",
    "A partir del diccionario `precios_por_distrito`, crea un diccionario donde la clave sea el distrito y el valor, otro diccionario con dos elementos: el precio mínimo (la clave será `minimo`) y el máximo (con clave `maximo`)."
   ]
  },
  {
   "cell_type": "code",
   "execution_count": null,
   "metadata": {},
   "outputs": [],
   "source": [
    "import pandas as pd\n",
    "\n",
    "venta = pd.read_csv('dat/venta-madrid-distritos.csv', index_col=False)\n",
    "venta = venta[venta.precio.notnull()]\n",
    "precios_por_distrito = venta.groupby('distrito').precio.apply(lambda precios: precios.tolist()).to_dict()\n",
    "precios_por_distrito"
   ]
  },
  {
   "cell_type": "code",
   "execution_count": null,
   "metadata": {},
   "outputs": [],
   "source": []
  },
  {
   "cell_type": "markdown",
   "metadata": {},
   "source": [
    "## Fechas\n",
    "\n",
    "En Python existen dos tipos de datos para tratar las fechas:\n",
    "\n",
    "* `date` si son referencias sin hora\n",
    "* `datetime` si incluyen la hora\n",
    "\n",
    "Podemos crearlas de la siguiente forma"
   ]
  },
  {
   "cell_type": "code",
   "execution_count": 3,
   "metadata": {},
   "outputs": [
    {
     "data": {
      "text/plain": [
       "datetime.date(2019, 1, 30)"
      ]
     },
     "execution_count": 3,
     "metadata": {},
     "output_type": "execute_result"
    }
   ],
   "source": [
    "from datetime import date, datetime\n",
    "\n",
    "fecha = date(2019, 1, 30)\n",
    "fecha"
   ]
  },
  {
   "cell_type": "code",
   "execution_count": 4,
   "metadata": {},
   "outputs": [
    {
     "data": {
      "text/plain": [
       "datetime.datetime(2019, 3, 30, 14, 35, 59)"
      ]
     },
     "execution_count": 4,
     "metadata": {},
     "output_type": "execute_result"
    }
   ],
   "source": [
    "fecha_hora = datetime(2019, 3, 30, 14, 35, 59)\n",
    "fecha_hora"
   ]
  },
  {
   "cell_type": "markdown",
   "metadata": {},
   "source": [
    "Podemos convertir (o truncar si aplica) una fecha más hora a solo fecha con `.date()`"
   ]
  },
  {
   "cell_type": "code",
   "execution_count": 5,
   "metadata": {},
   "outputs": [
    {
     "data": {
      "text/plain": [
       "datetime.date(2019, 3, 30)"
      ]
     },
     "execution_count": 5,
     "metadata": {},
     "output_type": "execute_result"
    }
   ],
   "source": [
    "fecha_hora.date()"
   ]
  },
  {
   "cell_type": "markdown",
   "metadata": {},
   "source": [
    "Tenemos dos funciones para pasar de cadena de texto a fecha y al revés:\n",
    "\n",
    "* `datetime.strftime()`: de fecha a cadena de texto (la f es de format)\n",
    "* `datetime.strptime()`: de cadena de texto a fecha (la p es de parse)"
   ]
  },
  {
   "cell_type": "code",
   "execution_count": 6,
   "metadata": {},
   "outputs": [
    {
     "data": {
      "text/plain": [
       "'2019-01-30'"
      ]
     },
     "execution_count": 6,
     "metadata": {},
     "output_type": "execute_result"
    }
   ],
   "source": [
    "fecha.strftime('%Y-%m-%d')"
   ]
  },
  {
   "cell_type": "code",
   "execution_count": 7,
   "metadata": {},
   "outputs": [
    {
     "data": {
      "text/plain": [
       "'2019-03-30 14:35:59'"
      ]
     },
     "execution_count": 7,
     "metadata": {},
     "output_type": "execute_result"
    }
   ],
   "source": [
    "fecha_hora.strftime('%Y-%m-%d %H:%M:%S')"
   ]
  },
  {
   "cell_type": "markdown",
   "metadata": {},
   "source": [
    "Los símbolos que puedes usar los puedes consultar [aquí](http://strftime.org/)"
   ]
  },
  {
   "cell_type": "markdown",
   "metadata": {},
   "source": [
    "#### Ejercicio\n",
    "\n",
    "Formatea fecha_hora con formato 12 horas en lugar de 24 e indicando si es AM o PM"
   ]
  },
  {
   "cell_type": "code",
   "execution_count": null,
   "metadata": {},
   "outputs": [],
   "source": []
  },
  {
   "cell_type": "markdown",
   "metadata": {},
   "source": [
    "#### Ejercicio\n",
    "\n",
    "Parsea a fecha:\n",
    "\n",
    "* `'20/05/2018'`\n",
    "* `'2018-05-20'`"
   ]
  },
  {
   "cell_type": "code",
   "execution_count": null,
   "metadata": {},
   "outputs": [],
   "source": []
  },
  {
   "cell_type": "markdown",
   "metadata": {},
   "source": [
    "Podemos sumar o restar periodos (p.e. días) con `timedelta`"
   ]
  },
  {
   "cell_type": "code",
   "execution_count": null,
   "metadata": {},
   "outputs": [],
   "source": [
    "from datetime import timedelta\n",
    "\n",
    "fecha + timedelta(days=5)"
   ]
  },
  {
   "cell_type": "markdown",
   "metadata": {},
   "source": [
    "## Funciones\n",
    "\n",
    "Durante el desarrollo de este curso, hemos definido varias funciones `lambda`. Son funciones pequeñas, típicamente _oneliners_, pensadas para hacer operaciones simples en una línea. Pero frecuentementese se hace necesario desarrollar transformaciones más complejas.\n",
    "\n",
    "Comenzaremos viendo cómo definir funciones y, después, cómo añadirles expresiones de control de código.\n",
    "\n",
    "### Definición de funciones\n",
    "\n",
    "La definción de una función comienza con `def` y termina con `:`. El cuerpo de la función está indentado y la definción de la función termina ahí donde termina la indentación. De hecho, en Python los bloques de código no están definidos, como en otros lenguajes con `{}` o bloques `BEGIN...END` sino por la indentación (que es obligatoria)."
   ]
  },
  {
   "cell_type": "code",
   "execution_count": null,
   "metadata": {},
   "outputs": [],
   "source": [
    "def formatea_precio(precio, simbolo):\n",
    "    precio_string = str(precio)\n",
    "    return precio_string + simbolo\n",
    "\n",
    "formatea_precio(2500, ' $')"
   ]
  },
  {
   "cell_type": "markdown",
   "metadata": {},
   "source": [
    "Una función que devuelva un resultado necesita obligatoriamente terminar con una expresión `return`. Si se omite, devolverá `None`."
   ]
  },
  {
   "cell_type": "markdown",
   "metadata": {
    "collapsed": true
   },
   "source": [
    "### Bucles\n",
    "\n",
    "Los bucles son similares a los de muchos otros lenguajes. Como en la definición de las funciones, el bloque de código que sigue a la expresión `for` está indentado."
   ]
  },
  {
   "cell_type": "code",
   "execution_count": null,
   "metadata": {},
   "outputs": [],
   "source": [
    "for precio in precios:\n",
    "    print(formatea_precio(precio, ' $'))"
   ]
  },
  {
   "cell_type": "markdown",
   "metadata": {},
   "source": [
    "Las _list comprehensions_ evitan la necesidad de construir muchos bucles."
   ]
  },
  {
   "cell_type": "markdown",
   "metadata": {},
   "source": [
    "#### Ejercicio\n",
    "\n",
    "Usa un bucle que devuelva el mismo resultado que la siguiente compresión de lista:\n",
    "\n",
    "```\n",
    "[f'{precio} €' for precio in precios]\n",
    "```\n",
    "\n",
    "**Nota:** es importante que el resultado sea una lista con los elementos esperados. Es decir, no vale simplemente imprimir sus elementos con `print`. Repasa la sección de listas para ver cómo crear una vacía e ir añadiendo elementos."
   ]
  },
  {
   "cell_type": "code",
   "execution_count": null,
   "metadata": {},
   "outputs": [],
   "source": []
  },
  {
   "cell_type": "markdown",
   "metadata": {},
   "source": [
    "### Expresiones condicionales\n",
    "\n",
    "Como en casi todos los lenguajes de programación, se pueden usar expresiones condicionales con la consabida estructura\n",
    "\n",
    "```\n",
    "if condicion:\n",
    "    ...\n",
    "```\n",
    "\n",
    "o, alternativamente, \n",
    "```\n",
    "if condicion:\n",
    "    ...\n",
    "elif:\n",
    "    ...\n",
    "else:\n",
    "    ...\n",
    "```\n",
    "\n",
    "De nuevo, los bloques de código que siguen tanto a la expresión `for` como a `else` tienen que estar indentados."
   ]
  },
  {
   "cell_type": "markdown",
   "metadata": {},
   "source": [
    "#### Ejercicio\n",
    "\n",
    "Construye una función que, dado un precio y un umbral, devuelva la cadena `caro` o `barato` según si el precio está por encima o por debajo del umbral. Crea entonces una columna adicional en `venta` usando como umbral la mediana del precio."
   ]
  },
  {
   "cell_type": "code",
   "execution_count": null,
   "metadata": {},
   "outputs": [],
   "source": []
  },
  {
   "cell_type": "markdown",
   "metadata": {},
   "source": [
    "#### Ejercicio\n",
    "\n",
    "Usa la función del ejercicio anterior, bucles, etc. para crear una columna adicional en `venta` que indique si el precio de un piso es caro o barato según supere o no la mediana de precios de su distrito."
   ]
  },
  {
   "cell_type": "code",
   "execution_count": null,
   "metadata": {},
   "outputs": [],
   "source": []
  },
  {
   "cell_type": "markdown",
   "metadata": {},
   "source": [
    "## El groupby más genérico\n",
    "\n",
    "Los ejemplos de agrupaciones que vimos en el notebook de pandas están pensados para los casos más típicos: sacar algunas estadísticas como medias, máximos, ... de una o varias columnas.\n",
    "\n",
    "Pero habitualmente necesitamos funciones más flexibles, que implican aplicar funciones propias a cada uno de los grupos. Para hacer esto, podemos utilizar `apply` y devolver una `Series`.\n",
    "\n",
    "Aunque, no debemos abusar de ellos. Si hay una alternativa a nuestro `apply` + función propia como las de arriba (`mean`, `max`, ...), serán mucho más eficientes (más rápidas!).\n",
    "\n",
    "Por ejemplo, vamos a devolver la diferencia relativa de precio entre el primer y último dato de cada distrito."
   ]
  },
  {
   "cell_type": "code",
   "execution_count": null,
   "metadata": {},
   "outputs": [],
   "source": [
    "def calcula_diferencia_relativa_precio(grupo):\n",
    "    # Ordenamos cronológicamente\n",
    "    grupo = grupo.sort_values(['ano', 'quarter'])\n",
    "    \n",
    "    # Cogemos el primero (dato más antiguo) y el último (más reciente)\n",
    "    precio_mas_antiguo = grupo.precio.iloc[0]\n",
    "    precio_mas_reciente = grupo.precio.iloc[-1]\n",
    "\n",
    "    # Queremos el incremento relativo\n",
    "    diferencia = (precio_mas_reciente - precio_mas_antiguo) / precio_mas_antiguo\n",
    "\n",
    "    # Lo devolvemos como pd.Series\n",
    "    return pd.Series({'incremento_precio_relativo': diferencia})\n",
    "\n",
    "alquiler.groupby('distrito').apply(calcula_diferencia_relativa_precio).reset_index()"
   ]
  },
  {
   "cell_type": "markdown",
   "metadata": {},
   "source": [
    "Con estas funciones personalizadas, también podemos devolver varias filas por cada grupo.\n",
    "\n",
    "Por ejemplo, vamos a devolver dos filas por grupo. Queremos saber, para cada distrito, cuándo y con qué valor se alcanzan los máximos y mínimos de precios."
   ]
  },
  {
   "cell_type": "code",
   "execution_count": null,
   "metadata": {},
   "outputs": [],
   "source": [
    "def get_rent_min_max(grupo):\n",
    "    # Ordenamos por precio\n",
    "    grupo = grupo.sort_values('precio')\n",
    "    \n",
    "    # Cogemos el primero (mínimo) y el último (máximo)\n",
    "    minimo = grupo.iloc[0]\n",
    "    maximo = grupo.iloc[-1]\n",
    "\n",
    "    # Devolvemos estas filas nuevas\n",
    "    nuevo_dataframe = pd.DataFrame({\n",
    "        'tipo': ['minimo', 'maximo'],\n",
    "        'ano': [minimo.ano, maximo.ano],\n",
    "        'quarter': [minimo.quarter, maximo.quarter],\n",
    "        'precio': [minimo.precio, maximo.precio],\n",
    "    })\n",
    "\n",
    "    return nuevo_dataframe\n",
    "\n",
    "resultado = alquiler.groupby('distrito').apply(get_rent_min_max).reset_index()\n",
    "\n",
    "# al hacer esto, sale una columna \"fea\" resultado de incluir un dataframe dentro de otro\n",
    "# podemos eliminarla con drop\n",
    "resultado.drop(columns=[\"level_1\"])"
   ]
  },
  {
   "cell_type": "code",
   "execution_count": null,
   "metadata": {},
   "outputs": [],
   "source": []
  }
 ],
 "metadata": {
  "kernelspec": {
   "display_name": "Python 3",
   "language": "python",
   "name": "python3"
  },
  "language_info": {
   "codemirror_mode": {
    "name": "ipython",
    "version": 3
   },
   "file_extension": ".py",
   "mimetype": "text/x-python",
   "name": "python",
   "nbconvert_exporter": "python",
   "pygments_lexer": "ipython3",
   "version": "3.7.4"
  }
 },
 "nbformat": 4,
 "nbformat_minor": 2
}
