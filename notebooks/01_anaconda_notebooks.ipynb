{
 "cells": [
  {
   "cell_type": "markdown",
   "metadata": {},
   "source": [
    "# Anaconda y _notebooks_"
   ]
  },
  {
   "cell_type": "markdown",
   "metadata": {
    "collapsed": true,
    "jupyter": {
     "outputs_hidden": true
    }
   },
   "source": [
    "## Anaconda"
   ]
  },
  {
   "cell_type": "markdown",
   "metadata": {},
   "source": [
    "Anaconda es una distribución de Python autocontenida y aislada del resto del sistema operativo especialmente pensada para el análisis de datos y la computación científica. Incluye, además de Python, una serie de paquetes y herramientas utilizadas en análisis de datos como:\n",
    "\n",
    "* El gestor de paquetes `conda`\n",
    "* Jupyter _notebooks_\n",
    "* El IDE Spyder\n",
    "* Una selección de paquetes muy usados en ciencia de datos y aplicaciones científicas como `pandas`, `scikit-learn`, `scipy`, `numpy`, `matplotlib`,...\n",
    "\n",
    "Más información sobre Anaconda [aquí](https://docs.anaconda.com/anaconda/)."
   ]
  },
  {
   "cell_type": "markdown",
   "metadata": {},
   "source": [
    "## _Notebooks_"
   ]
  },
  {
   "cell_type": "markdown",
   "metadata": {},
   "source": [
    "Los _notebooks_ son documentos interactivos que combinan texto y código. Los usos principales son:\n",
    "\n",
    "* IDE: son una plataforma de desarrollo de código\n",
    "* Documentación de código\n",
    "* Presentación y diseminación de resultados\n",
    "\n",
    "Los _notebooks_ incorporan a Python los principios de la [_programación literaria_](https://en.wikipedia.org/wiki/Literate_programming) y [investigación reproducible](http://t-redactyl.io/blog/2016/10/a-crash-course-in-reproducible-research-in-python.html).\n",
    "\n",
    "Un _notebook_ es esencialmente una secuencia de bloques o celdas, que pueden ser de dos tipos: texto y código. En el menú superior hay un botón (con el símbolo de un teclado) que indica las combinaciones de teclas con las que se pueden crear, eliminar, editar, ejecutar, etc. los bloques.\n",
    "\n",
    "Los _notebooks_ se abren en el navegador. Nuestros _notebooks_ apuntan a un servidor que corre en local, pero es posible abrir _notebooks_ que corren en servidores remotos."
   ]
  },
  {
   "cell_type": "markdown",
   "metadata": {},
   "source": [
    "### Bloques de texto"
   ]
  },
  {
   "cell_type": "markdown",
   "metadata": {},
   "source": [
    "Los bloques de texto permiten crear títulos de distinto nivel; enumeraciones; texto corrido; marcas tipográficas como _cursivas_, **negritas** o `de código`, etc. Además de eso, se pueden escribir bloques de código como\n",
    "\n",
    "```\n",
    "for (i %in% 1:10)\n",
    "    print(\"R rocks!)\n",
    "```\n",
    "\n",
    "Para saber más opciones de la sintaxis, mira [esta guía de `markdown`](https://www.markdownguide.org/basic-syntax/)"
   ]
  },
  {
   "cell_type": "markdown",
   "metadata": {},
   "source": [
    "### Bloques de código"
   ]
  },
  {
   "cell_type": "markdown",
   "metadata": {},
   "source": [
    "Los bloques de código contienen... código. Al ejecutarlo, se muestra el resultado de la última instrucción.\n",
    "\n",
    "El encargado de ejecutar el código es un _kernel_. Usaremos un _kernel_ de Python, pero es posible asociar a un _notebook_ _kernels_ en otros lenguajes de programación (p.e., Julia o R)."
   ]
  },
  {
   "cell_type": "code",
   "execution_count": null,
   "metadata": {},
   "outputs": [],
   "source": [
    "# Un ejemplo de celda con código\n",
    "a = 4\n",
    "b = 3\n",
    "a + b"
   ]
  },
  {
   "cell_type": "markdown",
   "metadata": {},
   "source": [
    "Cuando devolvemos una tabla en una celda, se visualiza con formato:"
   ]
  },
  {
   "cell_type": "code",
   "execution_count": null,
   "metadata": {},
   "outputs": [],
   "source": [
    "from sklearn import datasets\n",
    "import pandas as pd\n",
    "import numpy as np\n",
    "\n",
    "iris_data = datasets.load_iris()\n",
    "\n",
    "iris = pd.DataFrame(iris_data.data,columns=iris_data.feature_names)\n",
    "iris['species'] = pd.Series(iris_data.target_names[iris_data.target])\n",
    "iris.head()"
   ]
  },
  {
   "cell_type": "markdown",
   "metadata": {},
   "source": [
    "También podemos incluir gráficos devolviéndolos en celdas de código"
   ]
  },
  {
   "cell_type": "code",
   "execution_count": null,
   "metadata": {},
   "outputs": [],
   "source": [
    "# Con esta instrucción, indicamos que queremos ver incrustados los gráficos dentro del notebook\n",
    "\n",
    "%matplotlib inline"
   ]
  },
  {
   "cell_type": "code",
   "execution_count": null,
   "metadata": {},
   "outputs": [],
   "source": [
    "iris.plot.scatter(x='petal length (cm)',\n",
    "                  y='petal width (cm)')"
   ]
  },
  {
   "cell_type": "markdown",
   "metadata": {},
   "source": [
    "## Ejercicios\n",
    "\n",
    "1. Crea un nuevo _notebook_ y añádele bloques de texto y código.\n",
    "2. Consulta los atajos de teclado de Jupiter (botón con la imagen de un teclado en el menú) y familiarízate (y usa) los más comunes (crear bloque antes/después, borrar bloque, cambiar el tipo de bloque, ejecutar bloque, etc.)."
   ]
  }
 ],
 "metadata": {
  "kernelspec": {
   "display_name": "libropython",
   "language": "python",
   "name": "libropython"
  },
  "language_info": {
   "codemirror_mode": {
    "name": "ipython",
    "version": 3
   },
   "file_extension": ".py",
   "mimetype": "text/x-python",
   "name": "python",
   "nbconvert_exporter": "python",
   "pygments_lexer": "ipython3",
   "version": "3.12.1"
  }
 },
 "nbformat": 4,
 "nbformat_minor": 4
}
